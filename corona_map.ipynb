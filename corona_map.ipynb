{
  "nbformat": 4,
  "nbformat_minor": 0,
  "metadata": {
    "colab": {
      "name": "Untitled6.ipynb",
      "provenance": [],
      "collapsed_sections": []
    },
    "kernelspec": {
      "name": "python3",
      "display_name": "Python 3"
    }
  },
  "cells": [
    {
      "cell_type": "code",
      "metadata": {
        "id": "ZgwpUVYMtxzK",
        "colab_type": "code",
        "colab": {}
      },
      "source": [
        "import numpy as np\n",
        "import pandas as pd\n",
        "import matplotlib.pyplot as plt\n",
        "from IPython.display import display, HTML, IFrame\n",
        "from ipywidgets.embed import embed_minimal_html\n",
        "!jupyter nbextension enable --py --sys-prefix widgetsnbextension\n"
      ],
      "execution_count": 0,
      "outputs": []
    },
    {
      "cell_type": "code",
      "metadata": {
        "id": "rKaIay9HcgEy",
        "colab_type": "code",
        "colab": {}
      },
      "source": [
        "#Upload kaggle.json here!\n",
        "\n",
        "!pip install -q kaggle\n",
        "\n",
        "from google.colab import files\n",
        "files.upload()"
      ],
      "execution_count": 0,
      "outputs": []
    },
    {
      "cell_type": "code",
      "metadata": {
        "id": "a1o7dEKanDjW",
        "colab_type": "code",
        "colab": {}
      },
      "source": [
        "!mkdir ~/.kaggle\n",
        "\n",
        "!cp kaggle.json ~/.kaggle/\n",
        "\n",
        "!chmod 600 ~/.kaggle/kaggle.json"
      ],
      "execution_count": 0,
      "outputs": []
    },
    {
      "cell_type": "code",
      "metadata": {
        "id": "CetbuJSWok-B",
        "colab_type": "code",
        "colab": {}
      },
      "source": [
        "!kaggle datasets download -d sudalairajkumar/novel-corona-virus-2019-dataset\n",
        "!unzip ./novel-corona-virus-2019-dataset.zip -d ./"
      ],
      "execution_count": 0,
      "outputs": []
    },
    {
      "cell_type": "code",
      "metadata": {
        "id": "YEhuwpuwuuKB",
        "colab_type": "code",
        "colab": {}
      },
      "source": [
        "confirmed_world = pd.read_csv(\"./time_series_covid_19_confirmed.csv\")\n",
        "confirmed_world.name = \"confirmed_world\"\n",
        "\n",
        "death_world = pd.read_csv(\"./time_series_covid_19_deaths.csv\")\n",
        "death_world.name = \"Death_world\"\n",
        "\n",
        "recovered_world = pd.read_csv(\"./time_series_covid_19_recovered.csv\")\n",
        "recovered_world.name =\"recovered_world\"\n",
        "\n",
        "confirmed_US = pd.read_csv(\"./time_series_covid_19_confirmed_US.csv\")\n",
        "confirmed_US.rename(columns={'Long_': 'Long'}, inplace=True)\n",
        "confirmed_US.name = \"confirmed_US\"\n",
        "\n",
        "death_US = pd.read_csv(\"./time_series_covid_19_deaths_US.csv\")\n",
        "death_US.rename(columns={'Long_': 'Long'}, inplace=True)\n",
        "death_US.name = \"Death_US\""
      ],
      "execution_count": 0,
      "outputs": []
    },
    {
      "cell_type": "code",
      "metadata": {
        "id": "_bis1H3Oe996",
        "colab_type": "code",
        "colab": {}
      },
      "source": [
        "!pip install geopandas\n",
        "\n",
        "#import shape file from https://www.naturalearthdata.com/\n",
        "#I used https://www.naturalearthdata.com/http//www.naturalearthdata.com/download/110m/physical/ne_110m_land.zip\n",
        "#must import .shp and .shx\n",
        "from google.colab import files\n",
        "files.upload()"
      ],
      "execution_count": 0,
      "outputs": []
    },
    {
      "cell_type": "code",
      "metadata": {
        "id": "T3i9U1GPRMQt",
        "colab_type": "code",
        "colab": {}
      },
      "source": [
        "import geopandas"
      ],
      "execution_count": 0,
      "outputs": []
    },
    {
      "cell_type": "code",
      "metadata": {
        "id": "4vwTcBmIHhUE",
        "colab_type": "code",
        "colab": {}
      },
      "source": [
        "def generate_map(data_frame, column, shape_file):\n",
        "  #when loading the dataframe you have to zip the lat and long into markov coordenents\n",
        "  gdf = geopandas.GeoDataFrame(\n",
        "    data_frame[column], geometry=geopandas.points_from_xy(data_frame['Long'], data_frame['Lat']))\n",
        "  \n",
        "  world = geopandas.read_file(shape_file)\n",
        "  ax = world.plot()\n",
        "  #plots the data in relation to the numbers found in a specified collumn e.g. the number of deaths\n",
        "  #would probs be nice to change colors based on relative percentage or something\n",
        "  gdf.plot(markersize=data_frame[column], ax=ax, color='red')\n",
        "  \n",
        "  plt.show()"
      ],
      "execution_count": 0,
      "outputs": []
    },
    {
      "cell_type": "code",
      "metadata": {
        "id": "5mwP23OxJEJp",
        "colab_type": "code",
        "colab": {
          "base_uri": "https://localhost:8080/",
          "height": 228
        },
        "outputId": "f77f86d8-a6e8-4cc7-e357-90a06e142e41"
      },
      "source": [
        "generate_map(death_world, '4/20/20', 'ne_110m_admin_0_countries.shp')"
      ],
      "execution_count": 31,
      "outputs": [
        {
          "output_type": "execute_result",
          "data": {
            "text/plain": [
              "<matplotlib.axes._subplots.AxesSubplot at 0x7f84dceb5438>"
            ]
          },
          "metadata": {
            "tags": []
          },
          "execution_count": 31
        },
        {
          "output_type": "display_data",
          "data": {
            "image/png": "[encoded data removed]",
            "text/plain": [
              "<Figure size 432x288 with 1 Axes>"
            ]
          },
          "metadata": {
            "tags": [],
            "needs_background": "light"
          }
        }
      ]
    },
    {
      "cell_type": "code",
      "metadata": {
        "id": "dpAqHiXbUXDM",
        "colab_type": "code",
        "colab": {}
      },
      "source": [
        "#turns the images into a gif using pillow\n",
        "def generate_gif(directory_name):\n",
        "  import pillow as pil\n",
        "  from os import listdir\n",
        "  from os.path import isfile, join\n",
        "  images = [f for f in listdir(directory_name) if isfile(join(directory_name, f))]\n",
        "  images.save(directory_name + '.gif', save_all=True, append_images=images[1:])  \n"
      ],
      "execution_count": 0,
      "outputs": []
    },
    {
      "cell_type": "code",
      "metadata": {
        "id": "XI9pYEQsZiq6",
        "colab_type": "code",
        "colab": {
          "base_uri": "https://localhost:8080/",
          "height": 534
        },
        "outputId": "78a5f3fa-b230-4752-d9ce-05e563eee5e7"
      },
      "source": [
        "#This generates images for every day we've been keeping track and makes the gif\n",
        "#it's broken for now\n",
        "\n",
        "def day_by_day_map(data_set, shape_file):\n",
        "  import os\n",
        "  try:\n",
        "    os.makedirs(\"/content/\" + data_set.name)\n",
        "    path = \"/content/\" + data_set.name\n",
        "  except:\n",
        "        path = \"/content/\" + data_set.name\n",
        "\n",
        "  dropped = data_set.drop(columns=['Province/State', 'Country/Region', 'Lat', 'Long'])\n",
        "\n",
        "  for column in dropped.columns: \n",
        "    generate_map(data_set, column, shape_file).savefig(path + column + \".png\")\n",
        "  generate_gif(path)\n",
        "\n",
        "day_by_day_map(confirmed_world, 'ne_110m_admin_0_countries.shp')"
      ],
      "execution_count": 34,
      "outputs": [
        {
          "output_type": "display_data",
          "data": {
            "image/png": "[encoded data removed]",
            "text/plain": [
              "<Figure size 432x288 with 1 Axes>"
            ]
          },
          "metadata": {
            "tags": [],
            "needs_background": "light"
          }
        },
        {
          "output_type": "error",
          "ename": "AttributeError",
          "evalue": "ignored",
          "traceback": [
            "\u001b[0;31m---------------------------------------------------------------------------\u001b[0m",
            "\u001b[0;31mAttributeError\u001b[0m                            Traceback (most recent call last)",
            "\u001b[0;32m<ipython-input-34-83b79d584480>\u001b[0m in \u001b[0;36m<module>\u001b[0;34m()\u001b[0m\n\u001b[1;32m     15\u001b[0m   \u001b[0mgenerate_gif\u001b[0m\u001b[0;34m(\u001b[0m\u001b[0mpath\u001b[0m\u001b[0;34m)\u001b[0m\u001b[0;34m\u001b[0m\u001b[0;34m\u001b[0m\u001b[0m\n\u001b[1;32m     16\u001b[0m \u001b[0;34m\u001b[0m\u001b[0m\n\u001b[0;32m---> 17\u001b[0;31m \u001b[0mday_by_day_map\u001b[0m\u001b[0;34m(\u001b[0m\u001b[0mconfirmed_world\u001b[0m\u001b[0;34m,\u001b[0m \u001b[0;34m'ne_110m_admin_0_countries.shp'\u001b[0m\u001b[0;34m)\u001b[0m\u001b[0;34m\u001b[0m\u001b[0;34m\u001b[0m\u001b[0m\n\u001b[0m",
            "\u001b[0;32m<ipython-input-34-83b79d584480>\u001b[0m in \u001b[0;36mday_by_day_map\u001b[0;34m(data_set, shape_file)\u001b[0m\n\u001b[1;32m     12\u001b[0m \u001b[0;34m\u001b[0m\u001b[0m\n\u001b[1;32m     13\u001b[0m   \u001b[0;32mfor\u001b[0m \u001b[0mcolumn\u001b[0m \u001b[0;32min\u001b[0m \u001b[0mdropped\u001b[0m\u001b[0;34m.\u001b[0m\u001b[0mcolumns\u001b[0m\u001b[0;34m:\u001b[0m\u001b[0;34m\u001b[0m\u001b[0;34m\u001b[0m\u001b[0m\n\u001b[0;32m---> 14\u001b[0;31m     \u001b[0mgenerate_map\u001b[0m\u001b[0;34m(\u001b[0m\u001b[0mdata_set\u001b[0m\u001b[0;34m,\u001b[0m \u001b[0mcolumn\u001b[0m\u001b[0;34m,\u001b[0m \u001b[0mshape_file\u001b[0m\u001b[0;34m)\u001b[0m\u001b[0;34m.\u001b[0m\u001b[0msavefig\u001b[0m\u001b[0;34m(\u001b[0m\u001b[0mpath\u001b[0m \u001b[0;34m+\u001b[0m \u001b[0mcolumn\u001b[0m \u001b[0;34m+\u001b[0m \u001b[0;34m\".png\"\u001b[0m\u001b[0;34m)\u001b[0m\u001b[0;34m\u001b[0m\u001b[0;34m\u001b[0m\u001b[0m\n\u001b[0m\u001b[1;32m     15\u001b[0m   \u001b[0mgenerate_gif\u001b[0m\u001b[0;34m(\u001b[0m\u001b[0mpath\u001b[0m\u001b[0;34m)\u001b[0m\u001b[0;34m\u001b[0m\u001b[0;34m\u001b[0m\u001b[0m\n\u001b[1;32m     16\u001b[0m \u001b[0;34m\u001b[0m\u001b[0m\n",
            "\u001b[0;31mAttributeError\u001b[0m: 'NoneType' object has no attribute 'savefig'"
          ]
        }
      ]
    },
    {
      "cell_type": "code",
      "metadata": {
        "id": "NYeCMr3lCLsd",
        "colab_type": "code",
        "colab": {}
      },
      "source": [
        "#this is where I was going to calc ifr and other relavent stats\n",
        "#it would be nice to add a simulation as well for hypothetical data points, maybe assign a simularity score to the hypo data so it doesn't throw off the model\n",
        "def country_ifr(data_set):\n",
        "  for country in data_set['Country/Region']:\n",
        "    for date in \n",
        "    data_set[date]"
      ],
      "execution_count": 0,
      "outputs": []
    },
    {
      "cell_type": "code",
      "metadata": {
        "id": "WHXAReCz4-bn",
        "colab_type": "code",
        "colab": {}
      },
      "source": [
        "#code I found to lay out maps side by side e.g. to contrast deaths vs recovered\n",
        "import matplotlib.image as mpimg\n",
        "from matplotlib import rcParams\n",
        "\n",
        "%matplotlib inline\n",
        "\n",
        "# figure size in inches optional\n",
        "rcParams['figure.figsize'] = 11 ,8\n",
        "\n",
        "# read images\n",
        "img_A = mpimg.imread('\\path\\to\\img_A.png')\n",
        "img_B = mpimg.imread('\\path\\to\\img_B.png')\n",
        "\n",
        "# display images\n",
        "fig, ax = plt.subplots(1,2)\n",
        "ax[0].imshow(img_A);\n",
        "ax[1].imshow(img_B);"
      ],
      "execution_count": 0,
      "outputs": []
    }
  ]
}